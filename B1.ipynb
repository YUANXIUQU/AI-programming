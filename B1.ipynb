{
  "nbformat": 4,
  "nbformat_minor": 0,
  "metadata": {
    "colab": {
      "provenance": []
    },
    "kernelspec": {
      "name": "python3",
      "display_name": "Python 3"
    },
    "language_info": {
      "name": "python"
    }
  },
  "cells": [
    {
      "cell_type": "code",
      "execution_count": null,
      "metadata": {
        "id": "d3LgABSZISIs"
      },
      "outputs": [],
      "source": [
        "# Task B\n",
        "!pip install transformers torch accelerate\n",
        "!huggingface-cli login\n",
        "!huggingface-cli whoami\n",
        "from transformers import AutoTokenizer\n",
        "import transformers\n",
        "import torch\n",
        "model = \"meta-llama/Llama-2-7b-chat-hf\"\n",
        "tokenizer = AutoTokenizer.from_pretrained(model, use_auth_token=True)\n",
        "\n",
        "from transformers import pipeline\n",
        "# initialization of pipeline\n",
        "llama_pipeline = pipeline(\n",
        "    \"text-generation\",\n",
        "    model = model,\n",
        "    torch_dtype=torch.float16,\n",
        "    device_map=\"auto\",\n",
        ")\n",
        "# make sure the end of response is a full sentence\n",
        "def complete_sentence(response:str)-> str:\n",
        "  for i in ['.','?','!']:\n",
        "    last = response.rfind(i) # find last position of punctuation\n",
        "    if last != -1:\n",
        "      return response[:last+1] # return response end with full sentence\n",
        "  return response\n",
        "\n",
        "# generate response\n",
        "def get_llama_response1(prompt: str, old_conversation: str)-> str:\n",
        "  full_prompt = old_conversation + \"\\n only anwser this question:\" + prompt\n",
        "  sequences = llama_pipeline(\n",
        "      full_prompt,\n",
        "      do_sample=True,\n",
        "      top_k=12,\n",
        "      num_return_sequences=1,\n",
        "      eos_token_id=tokenizer.eos_token_id,\n",
        "      max_new_tokens=256,\n",
        "      temperature=1.1\n",
        "  )\n",
        "  generated_content = sequences[0]['generated_text']\n",
        "  response = generated_content[len(full_prompt):].strip() # cut off unnecessary text\n",
        "  return response\n",
        "\n",
        "old_conversation = \"\"\n",
        "\n",
        "# conversation loop\n",
        "while True:\n",
        "  user_input = input(\"You: \")\n",
        "  if user_input.lower() in [\"bye\", \"quit\", \"exit\"]:\n",
        "    print(\"Chatbot: Goodbye!\")\n",
        "    break\n",
        "  response = get_llama_response1(user_input, old_conversation)\n",
        "  response = complete_sentence(response)\n",
        "  old_conversation += f\"user:\\n{user_input} chatbot:\\n{response}\" # append conversation history\n",
        "  print(\"Chatbot:\", response,\"\\n\")"
      ]
    }
  ]
}