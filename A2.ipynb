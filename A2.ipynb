{
  "nbformat": 4,
  "nbformat_minor": 0,
  "metadata": {
    "colab": {
      "provenance": []
    },
    "kernelspec": {
      "name": "python3",
      "display_name": "Python 3"
    },
    "language_info": {
      "name": "python"
    }
  },
  "cells": [
    {
      "cell_type": "code",
      "execution_count": null,
      "metadata": {
        "id": "kFrmPgu-MQRq"
      },
      "outputs": [],
      "source": [
        "from keras.models import Sequential\n",
        "from keras.optimizers import Adam\n",
        "from keras.layers import Dense\n",
        "from sklearn.datasets import make_classification\n",
        "from sklearn.model_selection import train_test_split\n",
        "from sklearn.preprocessing import MinMaxScaler\n",
        "import pandas as pd\n",
        "import os\n",
        "from google.colab import drive\n",
        "\n",
        "# Access the dataset file\n",
        "drive.mount('/content/drive')\n",
        "path ='/content/drive/My Drive/Data.csv' # you can replace the file path with the directory where your data is stored\n",
        "data = pd.read_csv(path)\n",
        "# Seperate features X and y from dataset\n",
        "X = data.iloc[:,:2]\n",
        "y = data.iloc[:,2:]\n",
        "\n",
        "\n",
        "model = Sequential()\n",
        "# Add the Dense layer (hidden layer)\n",
        "model.add(Dense(10, input_dim=2, activation='relu'))\n",
        "# Add the output layer\n",
        "model.add(Dense(4, activation='sigmoid'))\n",
        "\n",
        "optimizer = Adam(learning_rate=0.001)\n",
        "\n",
        "# Split data into training, validation, and test sets\n",
        "X_train_valid, X_test, y_train_valid, y_test = train_test_split(X, y, test_size=0.2, random_state=42)\n",
        "X_train, X_valid, y_train, y_valid = train_test_split(X_train_valid, y_train_valid, test_size=0.2, random_state=42)\n",
        "\n",
        "# Compile the model\n",
        "model.compile(loss='binary_crossentropy', optimizer=optimizer, metrics=['binary_accuracy'])\n",
        "\n",
        "# Training the model\n",
        "model.fit(X_train, y_train, epochs=100, batch_size=32, validation_data=(X_valid, y_valid))\n",
        "\n",
        "# Evaluate the trained model\n",
        "loss, accuracy = model.evaluate(X_test, y_test)\n",
        "print(f\"binary_Accuracy: {accuracy}\")\n",
        "print(f\"Loss: {loss}\")"
      ]
    }
  ]
}